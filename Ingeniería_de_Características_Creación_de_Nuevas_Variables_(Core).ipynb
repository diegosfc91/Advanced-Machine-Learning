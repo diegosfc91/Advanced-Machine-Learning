{
  "nbformat": 4,
  "nbformat_minor": 0,
  "metadata": {
    "colab": {
      "provenance": [],
      "authorship_tag": "ABX9TyO8FnOccHSr3X+RyI9ku3gu",
      "include_colab_link": true
    },
    "kernelspec": {
      "name": "python3",
      "display_name": "Python 3"
    },
    "language_info": {
      "name": "python"
    }
  },
  "cells": [
    {
      "cell_type": "markdown",
      "metadata": {
        "id": "view-in-github",
        "colab_type": "text"
      },
      "source": [
        "<a href=\"https://colab.research.google.com/github/diegosfc91/Advanced-Machine-Learning/blob/main/Ingenier%C3%ADa_de_Caracter%C3%ADsticas_Creaci%C3%B3n_de_Nuevas_Variables_(Core).ipynb\" target=\"_parent\"><img src=\"https://colab.research.google.com/assets/colab-badge.svg\" alt=\"Open In Colab\"/></a>"
      ]
    },
    {
      "cell_type": "markdown",
      "source": [
        "# 1. Módulo de Carga y Exploración de Datos"
      ],
      "metadata": {
        "id": "l0KoIll5lfRt"
      }
    },
    {
      "cell_type": "code",
      "execution_count": 13,
      "metadata": {
        "colab": {
          "base_uri": "https://localhost:8080/"
        },
        "collapsed": true,
        "id": "iOCRPRwglWLI",
        "outputId": "091c8ae3-16fa-41fb-b2ff-704b2e11efe7"
      },
      "outputs": [
        {
          "output_type": "stream",
          "name": "stdout",
          "text": [
            "Exploración inicial del dataset: Train\n",
            "Primeras filas:\n",
            "    PassengerId  Survived  Pclass  \\\n",
            "0            1         0       3   \n",
            "1            2         1       1   \n",
            "2            3         1       3   \n",
            "3            4         1       1   \n",
            "4            5         0       3   \n",
            "\n",
            "                                                Name     Sex   Age  SibSp  \\\n",
            "0                            Braund, Mr. Owen Harris    male  22.0      1   \n",
            "1  Cumings, Mrs. John Bradley (Florence Briggs Th...  female  38.0      1   \n",
            "2                             Heikkinen, Miss. Laina  female  26.0      0   \n",
            "3       Futrelle, Mrs. Jacques Heath (Lily May Peel)  female  35.0      1   \n",
            "4                           Allen, Mr. William Henry    male  35.0      0   \n",
            "\n",
            "   Parch            Ticket     Fare Cabin Embarked  \n",
            "0      0         A/5 21171   7.2500   NaN        S  \n",
            "1      0          PC 17599  71.2833   C85        C  \n",
            "2      0  STON/O2. 3101282   7.9250   NaN        S  \n",
            "3      0            113803  53.1000  C123        S  \n",
            "4      0            373450   8.0500   NaN        S  \n",
            "\n",
            "Información del dataset:\n",
            "<class 'pandas.core.frame.DataFrame'>\n",
            "RangeIndex: 891 entries, 0 to 890\n",
            "Data columns (total 12 columns):\n",
            " #   Column       Non-Null Count  Dtype  \n",
            "---  ------       --------------  -----  \n",
            " 0   PassengerId  891 non-null    int64  \n",
            " 1   Survived     891 non-null    int64  \n",
            " 2   Pclass       891 non-null    int64  \n",
            " 3   Name         891 non-null    object \n",
            " 4   Sex          891 non-null    object \n",
            " 5   Age          714 non-null    float64\n",
            " 6   SibSp        891 non-null    int64  \n",
            " 7   Parch        891 non-null    int64  \n",
            " 8   Ticket       891 non-null    object \n",
            " 9   Fare         891 non-null    float64\n",
            " 10  Cabin        204 non-null    object \n",
            " 11  Embarked     889 non-null    object \n",
            "dtypes: float64(2), int64(5), object(5)\n",
            "memory usage: 83.7+ KB\n",
            "None\n",
            "\n",
            "Cantidad de valores nulos:\n",
            " PassengerId      0\n",
            "Survived         0\n",
            "Pclass           0\n",
            "Name             0\n",
            "Sex              0\n",
            "Age            177\n",
            "SibSp            0\n",
            "Parch            0\n",
            "Ticket           0\n",
            "Fare             0\n",
            "Cabin          687\n",
            "Embarked         2\n",
            "dtype: int64\n",
            "----------------------------------------\n",
            "Exploración inicial del dataset: Test\n",
            "Primeras filas:\n",
            "    PassengerId  Pclass                                          Name     Sex  \\\n",
            "0          892       3                              Kelly, Mr. James    male   \n",
            "1          893       3              Wilkes, Mrs. James (Ellen Needs)  female   \n",
            "2          894       2                     Myles, Mr. Thomas Francis    male   \n",
            "3          895       3                              Wirz, Mr. Albert    male   \n",
            "4          896       3  Hirvonen, Mrs. Alexander (Helga E Lindqvist)  female   \n",
            "\n",
            "    Age  SibSp  Parch   Ticket     Fare Cabin Embarked  \n",
            "0  34.5      0      0   330911   7.8292   NaN        Q  \n",
            "1  47.0      1      0   363272   7.0000   NaN        S  \n",
            "2  62.0      0      0   240276   9.6875   NaN        Q  \n",
            "3  27.0      0      0   315154   8.6625   NaN        S  \n",
            "4  22.0      1      1  3101298  12.2875   NaN        S  \n",
            "\n",
            "Información del dataset:\n",
            "<class 'pandas.core.frame.DataFrame'>\n",
            "RangeIndex: 418 entries, 0 to 417\n",
            "Data columns (total 11 columns):\n",
            " #   Column       Non-Null Count  Dtype  \n",
            "---  ------       --------------  -----  \n",
            " 0   PassengerId  418 non-null    int64  \n",
            " 1   Pclass       418 non-null    int64  \n",
            " 2   Name         418 non-null    object \n",
            " 3   Sex          418 non-null    object \n",
            " 4   Age          332 non-null    float64\n",
            " 5   SibSp        418 non-null    int64  \n",
            " 6   Parch        418 non-null    int64  \n",
            " 7   Ticket       418 non-null    object \n",
            " 8   Fare         417 non-null    float64\n",
            " 9   Cabin        91 non-null     object \n",
            " 10  Embarked     418 non-null    object \n",
            "dtypes: float64(2), int64(4), object(5)\n",
            "memory usage: 36.0+ KB\n",
            "None\n",
            "\n",
            "Cantidad de valores nulos:\n",
            " PassengerId      0\n",
            "Pclass           0\n",
            "Name             0\n",
            "Sex              0\n",
            "Age             86\n",
            "SibSp            0\n",
            "Parch            0\n",
            "Ticket           0\n",
            "Fare             1\n",
            "Cabin          327\n",
            "Embarked         0\n",
            "dtype: int64\n",
            "----------------------------------------\n"
          ]
        }
      ],
      "source": [
        "import pandas as pd\n",
        "import matplotlib.pyplot as plt\n",
        "import seaborn as sns\n",
        "\n",
        "# Cargar los datos\n",
        "train_data = pd.read_csv('/content/train.csv')\n",
        "test_data = pd.read_csv('/content/test.csv')\n",
        "\n",
        "# Función para realizar una exploración inicial\n",
        "def explorar_datos(data, nombre_dataset):\n",
        "    print(f\"Exploración inicial del dataset: {nombre_dataset}\")\n",
        "    print(\"Primeras filas:\\n\", data.head())\n",
        "    print(\"\\nInformación del dataset:\")\n",
        "    print(data.info())\n",
        "    print(\"\\nCantidad de valores nulos:\\n\", data.isnull().sum())\n",
        "    print(\"-\" * 40)\n",
        "\n",
        "# Explorar datos\n",
        "explorar_datos(train_data, \"Train\")\n",
        "explorar_datos(test_data, \"Test\")\n"
      ]
    },
    {
      "cell_type": "markdown",
      "source": [
        "# 2. Módulo de Limpieza de Datos"
      ],
      "metadata": {
        "id": "ZmlsA1Hlmosn"
      }
    },
    {
      "cell_type": "code",
      "source": [
        "# Función para limpiar datos\n",
        "def limpiar_datos(data):\n",
        "    # Imputar valores faltantes en 'Age' con la mediana\n",
        "    data['Age'] = data['Age'].fillna(data['Age'].median())\n",
        "    # Imputar valores faltantes en 'Fare' con la mediana\n",
        "    if 'Fare' in data.columns:\n",
        "        data['Fare'] = data['Fare'].fillna(data['Fare'].median())\n",
        "    # Eliminar columna 'Cabin' debido a muchos valores faltantes\n",
        "    if 'Cabin' in data.columns:\n",
        "        data = data.drop(columns=['Cabin'])\n",
        "    # Imputar valores faltantes en 'Embarked' con el valor más frecuente\n",
        "    if 'Embarked' in data.columns:\n",
        "        data['Embarked'] = data['Embarked'].fillna(data['Embarked'].mode()[0])\n",
        "    return data\n",
        "\n",
        "# Limpiar los datos\n",
        "train_data = limpiar_datos(train_data)\n",
        "test_data = limpiar_datos(test_data)\n"
      ],
      "metadata": {
        "id": "zplr2QzimvLf"
      },
      "execution_count": 14,
      "outputs": []
    },
    {
      "cell_type": "markdown",
      "source": [
        "# 3. Módulo de Creación de Nuevas Características\n",
        "\n"
      ],
      "metadata": {
        "id": "GIaUTgu7nXA-"
      }
    },
    {
      "cell_type": "code",
      "source": [
        "# Función para crear nuevas variables\n",
        "def crear_nuevas_variables(data):\n",
        "    # Tamaño de la familia: Combinar 'SibSp' y 'Parch'\n",
        "    data['FamilySize'] = data['SibSp'] + data['Parch'] + 1  # +1 para incluir al propio pasajero\n",
        "    # Cabina conocida: Variable binaria (solo si 'Cabin' existe en los datos)\n",
        "    if 'Cabin' in data.columns:\n",
        "        data['CabinKnown'] = data['Cabin'].notnull().astype(int)\n",
        "    else:\n",
        "        data['CabinKnown'] = 0  # Si no existe, asume que no hay cabina conocida\n",
        "    # Categoría de tarifa: Agrupar en rangos\n",
        "    data['FareCategory'] = pd.cut(data['Fare'], bins=[-1, 7.91, 14.454, 31, 1000],\n",
        "                                  labels=['Low', 'Mid-Low', 'Mid-High', 'High'])\n",
        "    # Título del pasajero: Extraer título desde 'Name'\n",
        "    data['Title'] = data['Name'].str.extract(' ([A-Za-z]+)\\.', expand=False)\n",
        "    # Agrupar títulos raros\n",
        "    rare_titles = ['Lady', 'Countess', 'Capt', 'Col', 'Don', 'Dr', 'Major', 'Rev', 'Sir',\n",
        "                   'Jonkheer', 'Dona']\n",
        "    data['Title'] = data['Title'].replace(rare_titles, 'Rare')\n",
        "    data['Title'] = data['Title'].replace({'Mlle': 'Miss', 'Ms': 'Miss', 'Mme': 'Mrs'})\n",
        "    return data\n",
        "\n",
        "# Aplicar la función a los datos de entrenamiento y prueba\n",
        "train_data = crear_nuevas_variables(train_data)\n",
        "test_data = crear_nuevas_variables(test_data)\n"
      ],
      "metadata": {
        "id": "eBmKwP9YnYwo"
      },
      "execution_count": 15,
      "outputs": []
    },
    {
      "cell_type": "markdown",
      "source": [
        "# 4. Codificación de Variables Categóricas"
      ],
      "metadata": {
        "id": "X-hWgV_WqQrm"
      }
    },
    {
      "cell_type": "code",
      "source": [
        "# Función para codificar variables categóricas\n",
        "def codificar_categorias(data):\n",
        "    # Codificar 'Sex': male -> 0, female -> 1\n",
        "    data['Sex'] = data['Sex'].map({'male': 0, 'female': 1})\n",
        "    # Codificar 'Embarked': C -> 0, Q -> 1, S -> 2\n",
        "    if 'Embarked' in data.columns:\n",
        "        data['Embarked'] = data['Embarked'].map({'C': 0, 'Q': 1, 'S': 2})\n",
        "    # Codificar 'FareCategory': Low -> 0, Mid-Low -> 1, etc.\n",
        "    if 'FareCategory' in data.columns and data['FareCategory'].dtype.name == 'category':\n",
        "        data['FareCategory'] = data['FareCategory'].cat.codes\n",
        "    # Asegurar que 'Title' esté codificado numéricamente\n",
        "    if 'Title' in data.columns and data['Title'].dtype == 'object':\n",
        "        title_mapping = {'Mr': 1, 'Miss': 2, 'Mrs': 3, 'Master': 4, 'Rare': 5}\n",
        "        data['Title'] = data['Title'].map(title_mapping)\n",
        "    return data\n",
        "\n",
        "# Codificar las variables categóricas\n",
        "train_data = codificar_categorias(train_data)\n",
        "test_data = codificar_categorias(test_data)\n"
      ],
      "metadata": {
        "id": "4B6Jvi1lqV3X"
      },
      "execution_count": 16,
      "outputs": []
    },
    {
      "cell_type": "markdown",
      "source": [
        "# 5. Evaluación de Modelos\n"
      ],
      "metadata": {
        "id": "RUiZEs2lrori"
      }
    },
    {
      "cell_type": "code",
      "source": [
        "from sklearn.model_selection import train_test_split\n",
        "from sklearn.linear_model import LogisticRegression\n",
        "from sklearn.tree import DecisionTreeClassifier\n",
        "from sklearn.metrics import accuracy_score, f1_score\n",
        "\n",
        "# Dividir los datos para modelos con y sin nuevas características\n",
        "base_features = ['Pclass', 'Sex', 'Age', 'SibSp', 'Parch', 'Fare', 'Embarked']\n",
        "new_features = base_features + ['FamilySize', 'CabinKnown', 'FareCategory', 'Title']\n",
        "\n",
        "# Sin nuevas características\n",
        "X_base = train_data[base_features]\n",
        "y = train_data['Survived']\n",
        "\n",
        "# Con nuevas características\n",
        "X_new = train_data[new_features]\n",
        "\n",
        "# Dividir en conjuntos de entrenamiento y prueba\n",
        "X_train_base, X_test_base, y_train, y_test = train_test_split(X_base, y, test_size=0.3, random_state=42)\n",
        "X_train_new, X_test_new, _, _ = train_test_split(X_new, y, test_size=0.3, random_state=42)\n",
        "\n",
        "# Función para entrenar y evaluar modelos\n",
        "def evaluar_modelo(model, X_train, X_test, y_train, y_test, desc):\n",
        "    model.fit(X_train, y_train)\n",
        "    y_pred = model.predict(X_test)\n",
        "    acc = accuracy_score(y_test, y_pred)\n",
        "    f1 = f1_score(y_test, y_pred)\n",
        "    print(f\"{desc} - Accuracy: {acc:.4f}, F1-Score: {f1:.4f}\")\n",
        "    return acc, f1\n",
        "\n",
        "# Modelos a usar\n",
        "logistic_model = LogisticRegression(max_iter=1000, random_state=42)\n",
        "tree_model = DecisionTreeClassifier(max_depth=5, random_state=42)\n",
        "\n",
        "# Evaluación sin nuevas características\n",
        "print(\"Evaluación sin nuevas características:\")\n",
        "evaluar_modelo(logistic_model, X_train_base, X_test_base, y_train, y_test, \"Logistic Regression\")\n",
        "evaluar_modelo(tree_model, X_train_base, X_test_base, y_train, y_test, \"Decision Tree\")\n",
        "\n",
        "# Evaluación con nuevas características\n",
        "print(\"\\nEvaluación con nuevas características:\")\n",
        "evaluar_modelo(logistic_model, X_train_new, X_test_new, y_train, y_test, \"Logistic Regression\")\n",
        "evaluar_modelo(tree_model, X_train_new, X_test_new, y_train, y_test, \"Decision Tree\")\n"
      ],
      "metadata": {
        "colab": {
          "base_uri": "https://localhost:8080/"
        },
        "id": "wdkSC1A2rtXa",
        "outputId": "39d7734c-be6f-4af7-d48d-a695ec8baca3"
      },
      "execution_count": 17,
      "outputs": [
        {
          "output_type": "stream",
          "name": "stdout",
          "text": [
            "Evaluación sin nuevas características:\n",
            "Logistic Regression - Accuracy: 0.8134, F1-Score: 0.7642\n",
            "Decision Tree - Accuracy: 0.7948, F1-Score: 0.7442\n",
            "\n",
            "Evaluación con nuevas características:\n",
            "Logistic Regression - Accuracy: 0.7985, F1-Score: 0.7568\n",
            "Decision Tree - Accuracy: 0.8209, F1-Score: 0.7757\n"
          ]
        },
        {
          "output_type": "execute_result",
          "data": {
            "text/plain": [
              "(0.8208955223880597, 0.7757009345794392)"
            ]
          },
          "metadata": {},
          "execution_count": 17
        }
      ]
    }
  ]
}